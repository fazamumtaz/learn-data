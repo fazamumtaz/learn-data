{
 "cells": [
  {
   "cell_type": "code",
   "execution_count": 6,
   "id": "e209e670-d00f-43b9-9698-6f0f003e9e67",
   "metadata": {},
   "outputs": [],
   "source": [
    "import pandas as pd\n",
    "\n",
    "customers = pd.DataFrame({\n",
    "    'id' : [1, 2, 3, 4],\n",
    "    'name' : ['Joe', 'Henry', 'Sam', 'Max']\n",
    "})\n",
    "orders = pd.DataFrame({\n",
    "    'id' : [1, 2],\n",
    "    'customerId' : [3, 1]\n",
    "})"
   ]
  },
  {
   "cell_type": "code",
   "execution_count": 13,
   "id": "496f368d-deb6-4c1a-9be7-e0a06841c397",
   "metadata": {},
   "outputs": [],
   "source": [
    "# Get the customers who havent orders yet\n",
    "no_orders = customers[~(customers['id'].isin(orders['customerId']))]"
   ]
  },
  {
   "cell_type": "code",
   "execution_count": 27,
   "id": "c2a22e5f-262a-44de-85f2-c4fc321ab98c",
   "metadata": {},
   "outputs": [],
   "source": [
    "df_no_orders = pd.DataFrame(no_orders.iloc[:, 1])"
   ]
  },
  {
   "cell_type": "code",
   "execution_count": 33,
   "id": "394699bd-6cc6-4b7d-b24a-70ed509f56bf",
   "metadata": {},
   "outputs": [],
   "source": [
    "df_no_orders.columns = ['Inactive Customers'] "
   ]
  },
  {
   "cell_type": "code",
   "execution_count": 37,
   "id": "d8ab79b8-7d14-450f-93b6-9ce469cc4b4c",
   "metadata": {},
   "outputs": [
    {
     "data": {
      "text/html": [
       "<div>\n",
       "<style scoped>\n",
       "    .dataframe tbody tr th:only-of-type {\n",
       "        vertical-align: middle;\n",
       "    }\n",
       "\n",
       "    .dataframe tbody tr th {\n",
       "        vertical-align: top;\n",
       "    }\n",
       "\n",
       "    .dataframe thead th {\n",
       "        text-align: right;\n",
       "    }\n",
       "</style>\n",
       "<table border=\"1\" class=\"dataframe\">\n",
       "  <thead>\n",
       "    <tr style=\"text-align: right;\">\n",
       "      <th></th>\n",
       "      <th>Inactive Customers</th>\n",
       "    </tr>\n",
       "  </thead>\n",
       "  <tbody>\n",
       "    <tr>\n",
       "      <th>3</th>\n",
       "      <td>Max</td>\n",
       "    </tr>\n",
       "    <tr>\n",
       "      <th>1</th>\n",
       "      <td>Henry</td>\n",
       "    </tr>\n",
       "  </tbody>\n",
       "</table>\n",
       "</div>"
      ],
      "text/plain": [
       "  Inactive Customers\n",
       "3                Max\n",
       "1              Henry"
      ]
     },
     "execution_count": 37,
     "metadata": {},
     "output_type": "execute_result"
    }
   ],
   "source": [
    "df_no_orders.sort_values(by='Inactive Customers', ascending=False)"
   ]
  }
 ],
 "metadata": {
  "kernelspec": {
   "display_name": "Python 3 (ipykernel)",
   "language": "python",
   "name": "python3"
  },
  "language_info": {
   "codemirror_mode": {
    "name": "ipython",
    "version": 3
   },
   "file_extension": ".py",
   "mimetype": "text/x-python",
   "name": "python",
   "nbconvert_exporter": "python",
   "pygments_lexer": "ipython3",
   "version": "3.12.7"
  }
 },
 "nbformat": 4,
 "nbformat_minor": 5
}
