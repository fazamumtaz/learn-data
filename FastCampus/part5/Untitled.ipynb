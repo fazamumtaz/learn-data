{
 "cells": [
  {
   "cell_type": "markdown",
   "id": "d4f84f19-2c0b-4326-8171-0f3225c54a0e",
   "metadata": {},
   "source": [
    "### Measures of Central Tendency and Variability"
   ]
  },
  {
   "cell_type": "code",
   "execution_count": 1,
   "id": "0639831c-c25b-4edd-b5e9-515dd358a2fa",
   "metadata": {},
   "outputs": [],
   "source": [
    "import statistics\n",
    "import numpy as np"
   ]
  },
  {
   "cell_type": "code",
   "execution_count": 9,
   "id": "47c6025e-444e-4382-8332-f9b29b4ce328",
   "metadata": {},
   "outputs": [
    {
     "data": {
      "text/plain": [
       "array([96, 97, 13, 58, 42, 70, 70, 23, 29,  0, 86,  6, 74, 24, 96,  2, 79,\n",
       "       58,  8, 46, 99, 83, 67, 56, 46, 30, 39, 61, 84, 14, 11, 27, 73, 49,\n",
       "       56, 70, 18, 14, 86, 13, 95, 29, 31, 78, 75, 41, 60, 73, 12, 64, 91,\n",
       "        5, 80, 54, 30, 89, 52, 61, 50, 39,  2, 48, 78, 79,  5, 82, 81, 97,\n",
       "       94, 30, 32, 62,  1, 32,  2, 12,  7, 87, 13, 57, 46, 93, 41, 80, 52,\n",
       "       93, 87, 34, 62, 34, 39, 13, 32, 35,  4,  9, 27, 60, 15, 56],\n",
       "      dtype=int32)"
      ]
     },
     "execution_count": 9,
     "metadata": {},
     "output_type": "execute_result"
    }
   ],
   "source": [
    "# Data\n",
    "data_rand = np.random.randint(0, 100, 100)\n",
    "data_rand"
   ]
  },
  {
   "cell_type": "code",
   "execution_count": 6,
   "id": "cc094001-2c6e-4200-ac21-eaf08243563b",
   "metadata": {},
   "outputs": [
    {
     "data": {
      "text/plain": [
       "['S', 'M', 'L', 'XL', 'L', 'S']"
      ]
     },
     "execution_count": 6,
     "metadata": {},
     "output_type": "execute_result"
    }
   ],
   "source": [
    "data_cat = ['S', 'M', 'L', 'XL', 'L', 'S']\n",
    "data_cat"
   ]
  },
  {
   "cell_type": "code",
   "execution_count": 13,
   "id": "e1db9cfd-0093-4bbf-92fd-efec2e586c42",
   "metadata": {},
   "outputs": [
    {
     "data": {
      "text/plain": [
       "np.int32(48)"
      ]
     },
     "execution_count": 13,
     "metadata": {},
     "output_type": "execute_result"
    }
   ],
   "source": [
    "# Central Tendency\n",
    "\n",
    "statistics.mean(data_rand)"
   ]
  },
  {
   "cell_type": "code",
   "execution_count": 15,
   "id": "86a00901-cc4a-4113-8e23-61f152961fe3",
   "metadata": {},
   "outputs": [
    {
     "data": {
      "text/plain": [
       "np.float64(49.5)"
      ]
     },
     "execution_count": 15,
     "metadata": {},
     "output_type": "execute_result"
    }
   ],
   "source": [
    "statistics.median(data_rand)"
   ]
  },
  {
   "cell_type": "code",
   "execution_count": 19,
   "id": "d3276b6d-89ee-48fc-816f-ad08c4eca3f9",
   "metadata": {},
   "outputs": [
    {
     "data": {
      "text/plain": [
       "['S', 'L']"
      ]
     },
     "execution_count": 19,
     "metadata": {},
     "output_type": "execute_result"
    }
   ],
   "source": [
    "statistics.multimode(data_cat) # biar bisa nangkep 2 modus sekaligus"
   ]
  },
  {
   "cell_type": "code",
   "execution_count": 20,
   "id": "b90aea84-5264-4916-aa95-1a3196f5d57c",
   "metadata": {},
   "outputs": [
    {
     "data": {
      "text/plain": [
       "np.int32(13)"
      ]
     },
     "execution_count": 20,
     "metadata": {},
     "output_type": "execute_result"
    }
   ],
   "source": [
    "statistics.mode(data_rand)"
   ]
  },
  {
   "cell_type": "code",
   "execution_count": 22,
   "id": "2fa15689-7f7c-4f61-a062-667bd81e2012",
   "metadata": {},
   "outputs": [
    {
     "data": {
      "text/plain": [
       "np.float64(885.8674999999998)"
      ]
     },
     "execution_count": 22,
     "metadata": {},
     "output_type": "execute_result"
    }
   ],
   "source": [
    "# Variability\n",
    "\n",
    "np.var(data_rand)"
   ]
  },
  {
   "cell_type": "code",
   "execution_count": 24,
   "id": "ef131e56-b162-4bdb-b792-2b2b9adf1663",
   "metadata": {},
   "outputs": [
    {
     "data": {
      "text/plain": [
       "np.float64(29.763526336776692)"
      ]
     },
     "execution_count": 24,
     "metadata": {},
     "output_type": "execute_result"
    }
   ],
   "source": [
    "np.std(data_rand)\n",
    "# kalo ini adalah data dengan distribusi normal, maka 68% data tidak akan jauh dari mean - std sampai mean + std, and 95% mean - 2std sampai mean + 2std"
   ]
  },
  {
   "cell_type": "code",
   "execution_count": 25,
   "id": "31357066-3259-4303-b012-c47467dcda86",
   "metadata": {},
   "outputs": [
    {
     "data": {
      "text/plain": [
       "np.int32(99)"
      ]
     },
     "execution_count": 25,
     "metadata": {},
     "output_type": "execute_result"
    }
   ],
   "source": [
    "np.max(data_rand) - np.min(data_rand)"
   ]
  },
  {
   "cell_type": "code",
   "execution_count": 27,
   "id": "d87f3dcd-3dd1-4089-8484-867ec2cd6455",
   "metadata": {},
   "outputs": [
    {
     "data": {
      "text/plain": [
       "np.float64(26.25)"
      ]
     },
     "execution_count": 27,
     "metadata": {},
     "output_type": "execute_result"
    }
   ],
   "source": [
    "np.quantile(data_rand, 0.25)"
   ]
  },
  {
   "cell_type": "code",
   "execution_count": 28,
   "id": "9b748297-1e08-4aa9-8306-6db9ba67769e",
   "metadata": {},
   "outputs": [
    {
     "data": {
      "text/plain": [
       "np.float64(49.5)"
      ]
     },
     "execution_count": 28,
     "metadata": {},
     "output_type": "execute_result"
    }
   ],
   "source": [
    "np.quantile(data_rand, 0.5)"
   ]
  },
  {
   "cell_type": "code",
   "execution_count": 30,
   "id": "4b83a907-292d-4425-ae2d-5226d6a20af3",
   "metadata": {},
   "outputs": [
    {
     "data": {
      "text/plain": [
       "np.float64(75.75)"
      ]
     },
     "execution_count": 30,
     "metadata": {},
     "output_type": "execute_result"
    }
   ],
   "source": [
    "np.quantile(data_rand, 0.75)"
   ]
  },
  {
   "cell_type": "markdown",
   "id": "a39ec39a-8605-49e0-a62b-af0706661470",
   "metadata": {},
   "source": [
    "### Normal Distribution"
   ]
  },
  {
   "cell_type": "code",
   "execution_count": null,
   "id": "1e08d498-2e3b-4a2d-92d0-16f47f04dbe2",
   "metadata": {},
   "outputs": [],
   "source": []
  }
 ],
 "metadata": {
  "kernelspec": {
   "display_name": "Python 3 (ipykernel)",
   "language": "python",
   "name": "python3"
  },
  "language_info": {
   "codemirror_mode": {
    "name": "ipython",
    "version": 3
   },
   "file_extension": ".py",
   "mimetype": "text/x-python",
   "name": "python",
   "nbconvert_exporter": "python",
   "pygments_lexer": "ipython3",
   "version": "3.12.7"
  }
 },
 "nbformat": 4,
 "nbformat_minor": 5
}
